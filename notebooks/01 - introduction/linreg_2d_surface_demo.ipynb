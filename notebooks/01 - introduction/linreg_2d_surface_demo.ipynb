{
 "cells": [
  {
   "cell_type": "code",
   "execution_count": 73,
   "metadata": {},
   "outputs": [],
   "source": [
    "import os, sys\n",
    "\n",
    "sys.path.append(os.path.abspath(os.path.join(\"../..\")))\n",
    "from utils import *"
   ]
  },
  {
   "cell_type": "code",
   "execution_count": 74,
   "metadata": {},
   "outputs": [],
   "source": [
    "from sklearn import datasets"
   ]
  },
  {
   "cell_type": "code",
   "execution_count": 75,
   "metadata": {},
   "outputs": [],
   "source": [
    "n = 10\n",
    "X = np.meshgrid(np.linspace(-1, 1, n), np.linspace(-1, 1, n))\n",
    "X = np.array(X).reshape(2, -1).T\n",
    "y = np.cbrt(X[:, 0] ** 3 + X[:, 1] ** 3) + np.random.normal(0, 0.1, n**2)\n",
    "# y = np.sqrt(X[:, 0] ** 2 + X[:, 1] ** 2) + np.random.normal(0, 0.1, n**2)\n",
    "# y = X[:, 0] + X[:, 1] + np.random.normal(0, 0.1, n**2)"
   ]
  },
  {
   "cell_type": "code",
   "execution_count": 76,
   "metadata": {},
   "outputs": [
    {
     "data": {
      "text/plain": [
       "((100, 2), (100,))"
      ]
     },
     "execution_count": 76,
     "metadata": {},
     "output_type": "execute_result"
    }
   ],
   "source": [
    "X.shape, y.shape"
   ]
  },
  {
   "cell_type": "code",
   "execution_count": 77,
   "metadata": {},
   "outputs": [
    {
     "data": {
      "application/vnd.plotly.v1+json": {
       "config": {
        "plotlyServerURL": "https://plot.ly"
       },
       "data": [
        {
         "marker": {
          "color": "blue",
          "opacity": 0.5,
          "size": 5
         },
         "mode": "markers",
         "type": "scatter3d",
         "x": [
          -1,
          -0.7777777777777778,
          -0.5555555555555556,
          -0.33333333333333337,
          -0.11111111111111116,
          0.11111111111111116,
          0.33333333333333326,
          0.5555555555555554,
          0.7777777777777777,
          1,
          -1,
          -0.7777777777777778,
          -0.5555555555555556,
          -0.33333333333333337,
          -0.11111111111111116,
          0.11111111111111116,
          0.33333333333333326,
          0.5555555555555554,
          0.7777777777777777,
          1,
          -1,
          -0.7777777777777778,
          -0.5555555555555556,
          -0.33333333333333337,
          -0.11111111111111116,
          0.11111111111111116,
          0.33333333333333326,
          0.5555555555555554,
          0.7777777777777777,
          1,
          -1,
          -0.7777777777777778,
          -0.5555555555555556,
          -0.33333333333333337,
          -0.11111111111111116,
          0.11111111111111116,
          0.33333333333333326,
          0.5555555555555554,
          0.7777777777777777,
          1,
          -1,
          -0.7777777777777778,
          -0.5555555555555556,
          -0.33333333333333337,
          -0.11111111111111116,
          0.11111111111111116,
          0.33333333333333326,
          0.5555555555555554,
          0.7777777777777777,
          1,
          -1,
          -0.7777777777777778,
          -0.5555555555555556,
          -0.33333333333333337,
          -0.11111111111111116,
          0.11111111111111116,
          0.33333333333333326,
          0.5555555555555554,
          0.7777777777777777,
          1,
          -1,
          -0.7777777777777778,
          -0.5555555555555556,
          -0.33333333333333337,
          -0.11111111111111116,
          0.11111111111111116,
          0.33333333333333326,
          0.5555555555555554,
          0.7777777777777777,
          1,
          -1,
          -0.7777777777777778,
          -0.5555555555555556,
          -0.33333333333333337,
          -0.11111111111111116,
          0.11111111111111116,
          0.33333333333333326,
          0.5555555555555554,
          0.7777777777777777,
          1,
          -1,
          -0.7777777777777778,
          -0.5555555555555556,
          -0.33333333333333337,
          -0.11111111111111116,
          0.11111111111111116,
          0.33333333333333326,
          0.5555555555555554,
          0.7777777777777777,
          1,
          -1,
          -0.7777777777777778,
          -0.5555555555555556,
          -0.33333333333333337,
          -0.11111111111111116,
          0.11111111111111116,
          0.33333333333333326,
          0.5555555555555554,
          0.7777777777777777,
          1
         ],
         "y": [
          -1,
          -1,
          -1,
          -1,
          -1,
          -1,
          -1,
          -1,
          -1,
          -1,
          -0.7777777777777778,
          -0.7777777777777778,
          -0.7777777777777778,
          -0.7777777777777778,
          -0.7777777777777778,
          -0.7777777777777778,
          -0.7777777777777778,
          -0.7777777777777778,
          -0.7777777777777778,
          -0.7777777777777778,
          -0.5555555555555556,
          -0.5555555555555556,
          -0.5555555555555556,
          -0.5555555555555556,
          -0.5555555555555556,
          -0.5555555555555556,
          -0.5555555555555556,
          -0.5555555555555556,
          -0.5555555555555556,
          -0.5555555555555556,
          -0.33333333333333337,
          -0.33333333333333337,
          -0.33333333333333337,
          -0.33333333333333337,
          -0.33333333333333337,
          -0.33333333333333337,
          -0.33333333333333337,
          -0.33333333333333337,
          -0.33333333333333337,
          -0.33333333333333337,
          -0.11111111111111116,
          -0.11111111111111116,
          -0.11111111111111116,
          -0.11111111111111116,
          -0.11111111111111116,
          -0.11111111111111116,
          -0.11111111111111116,
          -0.11111111111111116,
          -0.11111111111111116,
          -0.11111111111111116,
          0.11111111111111116,
          0.11111111111111116,
          0.11111111111111116,
          0.11111111111111116,
          0.11111111111111116,
          0.11111111111111116,
          0.11111111111111116,
          0.11111111111111116,
          0.11111111111111116,
          0.11111111111111116,
          0.33333333333333326,
          0.33333333333333326,
          0.33333333333333326,
          0.33333333333333326,
          0.33333333333333326,
          0.33333333333333326,
          0.33333333333333326,
          0.33333333333333326,
          0.33333333333333326,
          0.33333333333333326,
          0.5555555555555554,
          0.5555555555555554,
          0.5555555555555554,
          0.5555555555555554,
          0.5555555555555554,
          0.5555555555555554,
          0.5555555555555554,
          0.5555555555555554,
          0.5555555555555554,
          0.5555555555555554,
          0.7777777777777777,
          0.7777777777777777,
          0.7777777777777777,
          0.7777777777777777,
          0.7777777777777777,
          0.7777777777777777,
          0.7777777777777777,
          0.7777777777777777,
          0.7777777777777777,
          0.7777777777777777,
          1,
          1,
          1,
          1,
          1,
          1,
          1,
          1,
          1,
          1
         ],
         "z": [
          -1.3217597013438351,
          -1.1519470949503514,
          -1.0532832830178172,
          -1.1149200072454681,
          -1.0726431176517224,
          -0.9840234366022669,
          -0.9376548310822564,
          -0.8976873603503853,
          -0.7603009186406371,
          -0.04152820479363664,
          -1.1223322767893626,
          -1.0513409531102438,
          -0.8101380196954147,
          -0.7231282981459227,
          -0.9600384039409513,
          -0.7697155175694228,
          -0.7651830013543168,
          -0.7655768406039556,
          0.03151039836620709,
          0.9175104361177523,
          -1.0818855432696695,
          -0.9242733714391146,
          -0.5794336767931614,
          -0.6532038591147946,
          -0.6833467346188108,
          -0.4597831138349721,
          -0.5215120700624944,
          -0.14500639598126486,
          0.6342716311789417,
          0.9652399977036249,
          -0.9818184670085021,
          -0.9405408317759493,
          -0.5637109714396007,
          -0.35009173148715167,
          -0.36908315338747577,
          -0.3933285430264028,
          0.03879110939515918,
          0.5746118373307803,
          0.816814536564917,
          1.0064793612017044,
          -1.0273599651318939,
          -0.9430597512172278,
          -0.6873355247443733,
          -0.23738390975788437,
          -0.10024275829202145,
          -0.0736322603386962,
          0.3620174639899211,
          0.7393716497622702,
          0.7243267425840203,
          1.0677616171137965,
          -0.9184615233351617,
          -0.9172733614513263,
          -0.48079682973315696,
          -0.29444983957212395,
          0.04688795134750535,
          0.058331127518676126,
          0.4242436799432983,
          0.5369085896931206,
          0.7680653783077759,
          0.9827293506259592,
          -1.0111105228920902,
          -0.6634062881670152,
          -0.6945844993675004,
          0.07144351343261417,
          0.4150308319531427,
          0.45613266987833906,
          0.43874838591617576,
          0.5225847229520967,
          0.6608845106115699,
          1.0493364909838634,
          -0.7486724572594256,
          -0.6547439130619592,
          -0.0068744148109012035,
          0.5717821015476457,
          0.7269510911125574,
          0.5026299150933629,
          0.5233115517368327,
          0.6917436198822289,
          0.8499929644452774,
          1.1390796497352447,
          -0.8978261992174476,
          0.011885418376641133,
          0.5722244234075551,
          0.7701785110308381,
          0.832222082700922,
          0.7051111558980422,
          0.6470843120937001,
          0.7073037529033609,
          0.9422508811531031,
          1.1519171722589074,
          -0.06949634731486044,
          0.7787051370125635,
          0.8221657357987893,
          1.0305106840870721,
          1.0055724215133417,
          0.8359686421378507,
          1.180060502841542,
          0.9616754160623999,
          1.1437847101209262,
          1.4959577206933552
         ]
        }
       ],
       "layout": {
        "template": {
         "data": {
          "bar": [
           {
            "error_x": {
             "color": "#2a3f5f"
            },
            "error_y": {
             "color": "#2a3f5f"
            },
            "marker": {
             "line": {
              "color": "#E5ECF6",
              "width": 0.5
             },
             "pattern": {
              "fillmode": "overlay",
              "size": 10,
              "solidity": 0.2
             }
            },
            "type": "bar"
           }
          ],
          "barpolar": [
           {
            "marker": {
             "line": {
              "color": "#E5ECF6",
              "width": 0.5
             },
             "pattern": {
              "fillmode": "overlay",
              "size": 10,
              "solidity": 0.2
             }
            },
            "type": "barpolar"
           }
          ],
          "carpet": [
           {
            "aaxis": {
             "endlinecolor": "#2a3f5f",
             "gridcolor": "white",
             "linecolor": "white",
             "minorgridcolor": "white",
             "startlinecolor": "#2a3f5f"
            },
            "baxis": {
             "endlinecolor": "#2a3f5f",
             "gridcolor": "white",
             "linecolor": "white",
             "minorgridcolor": "white",
             "startlinecolor": "#2a3f5f"
            },
            "type": "carpet"
           }
          ],
          "choropleth": [
           {
            "colorbar": {
             "outlinewidth": 0,
             "ticks": ""
            },
            "type": "choropleth"
           }
          ],
          "contour": [
           {
            "colorbar": {
             "outlinewidth": 0,
             "ticks": ""
            },
            "colorscale": [
             [
              0,
              "#0d0887"
             ],
             [
              0.1111111111111111,
              "#46039f"
             ],
             [
              0.2222222222222222,
              "#7201a8"
             ],
             [
              0.3333333333333333,
              "#9c179e"
             ],
             [
              0.4444444444444444,
              "#bd3786"
             ],
             [
              0.5555555555555556,
              "#d8576b"
             ],
             [
              0.6666666666666666,
              "#ed7953"
             ],
             [
              0.7777777777777778,
              "#fb9f3a"
             ],
             [
              0.8888888888888888,
              "#fdca26"
             ],
             [
              1,
              "#f0f921"
             ]
            ],
            "type": "contour"
           }
          ],
          "contourcarpet": [
           {
            "colorbar": {
             "outlinewidth": 0,
             "ticks": ""
            },
            "type": "contourcarpet"
           }
          ],
          "heatmap": [
           {
            "colorbar": {
             "outlinewidth": 0,
             "ticks": ""
            },
            "colorscale": [
             [
              0,
              "#0d0887"
             ],
             [
              0.1111111111111111,
              "#46039f"
             ],
             [
              0.2222222222222222,
              "#7201a8"
             ],
             [
              0.3333333333333333,
              "#9c179e"
             ],
             [
              0.4444444444444444,
              "#bd3786"
             ],
             [
              0.5555555555555556,
              "#d8576b"
             ],
             [
              0.6666666666666666,
              "#ed7953"
             ],
             [
              0.7777777777777778,
              "#fb9f3a"
             ],
             [
              0.8888888888888888,
              "#fdca26"
             ],
             [
              1,
              "#f0f921"
             ]
            ],
            "type": "heatmap"
           }
          ],
          "heatmapgl": [
           {
            "colorbar": {
             "outlinewidth": 0,
             "ticks": ""
            },
            "colorscale": [
             [
              0,
              "#0d0887"
             ],
             [
              0.1111111111111111,
              "#46039f"
             ],
             [
              0.2222222222222222,
              "#7201a8"
             ],
             [
              0.3333333333333333,
              "#9c179e"
             ],
             [
              0.4444444444444444,
              "#bd3786"
             ],
             [
              0.5555555555555556,
              "#d8576b"
             ],
             [
              0.6666666666666666,
              "#ed7953"
             ],
             [
              0.7777777777777778,
              "#fb9f3a"
             ],
             [
              0.8888888888888888,
              "#fdca26"
             ],
             [
              1,
              "#f0f921"
             ]
            ],
            "type": "heatmapgl"
           }
          ],
          "histogram": [
           {
            "marker": {
             "pattern": {
              "fillmode": "overlay",
              "size": 10,
              "solidity": 0.2
             }
            },
            "type": "histogram"
           }
          ],
          "histogram2d": [
           {
            "colorbar": {
             "outlinewidth": 0,
             "ticks": ""
            },
            "colorscale": [
             [
              0,
              "#0d0887"
             ],
             [
              0.1111111111111111,
              "#46039f"
             ],
             [
              0.2222222222222222,
              "#7201a8"
             ],
             [
              0.3333333333333333,
              "#9c179e"
             ],
             [
              0.4444444444444444,
              "#bd3786"
             ],
             [
              0.5555555555555556,
              "#d8576b"
             ],
             [
              0.6666666666666666,
              "#ed7953"
             ],
             [
              0.7777777777777778,
              "#fb9f3a"
             ],
             [
              0.8888888888888888,
              "#fdca26"
             ],
             [
              1,
              "#f0f921"
             ]
            ],
            "type": "histogram2d"
           }
          ],
          "histogram2dcontour": [
           {
            "colorbar": {
             "outlinewidth": 0,
             "ticks": ""
            },
            "colorscale": [
             [
              0,
              "#0d0887"
             ],
             [
              0.1111111111111111,
              "#46039f"
             ],
             [
              0.2222222222222222,
              "#7201a8"
             ],
             [
              0.3333333333333333,
              "#9c179e"
             ],
             [
              0.4444444444444444,
              "#bd3786"
             ],
             [
              0.5555555555555556,
              "#d8576b"
             ],
             [
              0.6666666666666666,
              "#ed7953"
             ],
             [
              0.7777777777777778,
              "#fb9f3a"
             ],
             [
              0.8888888888888888,
              "#fdca26"
             ],
             [
              1,
              "#f0f921"
             ]
            ],
            "type": "histogram2dcontour"
           }
          ],
          "mesh3d": [
           {
            "colorbar": {
             "outlinewidth": 0,
             "ticks": ""
            },
            "type": "mesh3d"
           }
          ],
          "parcoords": [
           {
            "line": {
             "colorbar": {
              "outlinewidth": 0,
              "ticks": ""
             }
            },
            "type": "parcoords"
           }
          ],
          "pie": [
           {
            "automargin": true,
            "type": "pie"
           }
          ],
          "scatter": [
           {
            "fillpattern": {
             "fillmode": "overlay",
             "size": 10,
             "solidity": 0.2
            },
            "type": "scatter"
           }
          ],
          "scatter3d": [
           {
            "line": {
             "colorbar": {
              "outlinewidth": 0,
              "ticks": ""
             }
            },
            "marker": {
             "colorbar": {
              "outlinewidth": 0,
              "ticks": ""
             }
            },
            "type": "scatter3d"
           }
          ],
          "scattercarpet": [
           {
            "marker": {
             "colorbar": {
              "outlinewidth": 0,
              "ticks": ""
             }
            },
            "type": "scattercarpet"
           }
          ],
          "scattergeo": [
           {
            "marker": {
             "colorbar": {
              "outlinewidth": 0,
              "ticks": ""
             }
            },
            "type": "scattergeo"
           }
          ],
          "scattergl": [
           {
            "marker": {
             "colorbar": {
              "outlinewidth": 0,
              "ticks": ""
             }
            },
            "type": "scattergl"
           }
          ],
          "scattermapbox": [
           {
            "marker": {
             "colorbar": {
              "outlinewidth": 0,
              "ticks": ""
             }
            },
            "type": "scattermapbox"
           }
          ],
          "scatterpolar": [
           {
            "marker": {
             "colorbar": {
              "outlinewidth": 0,
              "ticks": ""
             }
            },
            "type": "scatterpolar"
           }
          ],
          "scatterpolargl": [
           {
            "marker": {
             "colorbar": {
              "outlinewidth": 0,
              "ticks": ""
             }
            },
            "type": "scatterpolargl"
           }
          ],
          "scatterternary": [
           {
            "marker": {
             "colorbar": {
              "outlinewidth": 0,
              "ticks": ""
             }
            },
            "type": "scatterternary"
           }
          ],
          "surface": [
           {
            "colorbar": {
             "outlinewidth": 0,
             "ticks": ""
            },
            "colorscale": [
             [
              0,
              "#0d0887"
             ],
             [
              0.1111111111111111,
              "#46039f"
             ],
             [
              0.2222222222222222,
              "#7201a8"
             ],
             [
              0.3333333333333333,
              "#9c179e"
             ],
             [
              0.4444444444444444,
              "#bd3786"
             ],
             [
              0.5555555555555556,
              "#d8576b"
             ],
             [
              0.6666666666666666,
              "#ed7953"
             ],
             [
              0.7777777777777778,
              "#fb9f3a"
             ],
             [
              0.8888888888888888,
              "#fdca26"
             ],
             [
              1,
              "#f0f921"
             ]
            ],
            "type": "surface"
           }
          ],
          "table": [
           {
            "cells": {
             "fill": {
              "color": "#EBF0F8"
             },
             "line": {
              "color": "white"
             }
            },
            "header": {
             "fill": {
              "color": "#C8D4E3"
             },
             "line": {
              "color": "white"
             }
            },
            "type": "table"
           }
          ]
         },
         "layout": {
          "annotationdefaults": {
           "arrowcolor": "#2a3f5f",
           "arrowhead": 0,
           "arrowwidth": 1
          },
          "autotypenumbers": "strict",
          "coloraxis": {
           "colorbar": {
            "outlinewidth": 0,
            "ticks": ""
           }
          },
          "colorscale": {
           "diverging": [
            [
             0,
             "#8e0152"
            ],
            [
             0.1,
             "#c51b7d"
            ],
            [
             0.2,
             "#de77ae"
            ],
            [
             0.3,
             "#f1b6da"
            ],
            [
             0.4,
             "#fde0ef"
            ],
            [
             0.5,
             "#f7f7f7"
            ],
            [
             0.6,
             "#e6f5d0"
            ],
            [
             0.7,
             "#b8e186"
            ],
            [
             0.8,
             "#7fbc41"
            ],
            [
             0.9,
             "#4d9221"
            ],
            [
             1,
             "#276419"
            ]
           ],
           "sequential": [
            [
             0,
             "#0d0887"
            ],
            [
             0.1111111111111111,
             "#46039f"
            ],
            [
             0.2222222222222222,
             "#7201a8"
            ],
            [
             0.3333333333333333,
             "#9c179e"
            ],
            [
             0.4444444444444444,
             "#bd3786"
            ],
            [
             0.5555555555555556,
             "#d8576b"
            ],
            [
             0.6666666666666666,
             "#ed7953"
            ],
            [
             0.7777777777777778,
             "#fb9f3a"
            ],
            [
             0.8888888888888888,
             "#fdca26"
            ],
            [
             1,
             "#f0f921"
            ]
           ],
           "sequentialminus": [
            [
             0,
             "#0d0887"
            ],
            [
             0.1111111111111111,
             "#46039f"
            ],
            [
             0.2222222222222222,
             "#7201a8"
            ],
            [
             0.3333333333333333,
             "#9c179e"
            ],
            [
             0.4444444444444444,
             "#bd3786"
            ],
            [
             0.5555555555555556,
             "#d8576b"
            ],
            [
             0.6666666666666666,
             "#ed7953"
            ],
            [
             0.7777777777777778,
             "#fb9f3a"
            ],
            [
             0.8888888888888888,
             "#fdca26"
            ],
            [
             1,
             "#f0f921"
            ]
           ]
          },
          "colorway": [
           "#636efa",
           "#EF553B",
           "#00cc96",
           "#ab63fa",
           "#FFA15A",
           "#19d3f3",
           "#FF6692",
           "#B6E880",
           "#FF97FF",
           "#FECB52"
          ],
          "font": {
           "color": "#2a3f5f"
          },
          "geo": {
           "bgcolor": "white",
           "lakecolor": "white",
           "landcolor": "#E5ECF6",
           "showlakes": true,
           "showland": true,
           "subunitcolor": "white"
          },
          "hoverlabel": {
           "align": "left"
          },
          "hovermode": "closest",
          "mapbox": {
           "style": "light"
          },
          "paper_bgcolor": "white",
          "plot_bgcolor": "#E5ECF6",
          "polar": {
           "angularaxis": {
            "gridcolor": "white",
            "linecolor": "white",
            "ticks": ""
           },
           "bgcolor": "#E5ECF6",
           "radialaxis": {
            "gridcolor": "white",
            "linecolor": "white",
            "ticks": ""
           }
          },
          "scene": {
           "xaxis": {
            "backgroundcolor": "#E5ECF6",
            "gridcolor": "white",
            "gridwidth": 2,
            "linecolor": "white",
            "showbackground": true,
            "ticks": "",
            "zerolinecolor": "white"
           },
           "yaxis": {
            "backgroundcolor": "#E5ECF6",
            "gridcolor": "white",
            "gridwidth": 2,
            "linecolor": "white",
            "showbackground": true,
            "ticks": "",
            "zerolinecolor": "white"
           },
           "zaxis": {
            "backgroundcolor": "#E5ECF6",
            "gridcolor": "white",
            "gridwidth": 2,
            "linecolor": "white",
            "showbackground": true,
            "ticks": "",
            "zerolinecolor": "white"
           }
          },
          "shapedefaults": {
           "line": {
            "color": "#2a3f5f"
           }
          },
          "ternary": {
           "aaxis": {
            "gridcolor": "white",
            "linecolor": "white",
            "ticks": ""
           },
           "baxis": {
            "gridcolor": "white",
            "linecolor": "white",
            "ticks": ""
           },
           "bgcolor": "#E5ECF6",
           "caxis": {
            "gridcolor": "white",
            "linecolor": "white",
            "ticks": ""
           }
          },
          "title": {
           "x": 0.05
          },
          "xaxis": {
           "automargin": true,
           "gridcolor": "white",
           "linecolor": "white",
           "ticks": "",
           "title": {
            "standoff": 15
           },
           "zerolinecolor": "white",
           "zerolinewidth": 2
          },
          "yaxis": {
           "automargin": true,
           "gridcolor": "white",
           "linecolor": "white",
           "ticks": "",
           "title": {
            "standoff": 15
           },
           "zerolinecolor": "white",
           "zerolinewidth": 2
          }
         }
        }
       }
      }
     },
     "metadata": {},
     "output_type": "display_data"
    }
   ],
   "source": [
    "import plotly.graph_objects as go\n",
    "\n",
    "fig = go.Figure(\n",
    "    data=[\n",
    "        go.Scatter3d(\n",
    "            x=X[:, 0],\n",
    "            y=X[:, 1],\n",
    "            z=y,\n",
    "            mode=\"markers\",\n",
    "            marker=dict(size=5, color=\"blue\", opacity=0.5),\n",
    "        )\n",
    "    ]\n",
    ")\n",
    "\n",
    "fig.show()"
   ]
  },
  {
   "cell_type": "code",
   "execution_count": 78,
   "metadata": {},
   "outputs": [
    {
     "data": {
      "text/html": [
       "<style>#sk-container-id-8 {\n",
       "  /* Definition of color scheme common for light and dark mode */\n",
       "  --sklearn-color-text: black;\n",
       "  --sklearn-color-line: gray;\n",
       "  /* Definition of color scheme for unfitted estimators */\n",
       "  --sklearn-color-unfitted-level-0: #fff5e6;\n",
       "  --sklearn-color-unfitted-level-1: #f6e4d2;\n",
       "  --sklearn-color-unfitted-level-2: #ffe0b3;\n",
       "  --sklearn-color-unfitted-level-3: chocolate;\n",
       "  /* Definition of color scheme for fitted estimators */\n",
       "  --sklearn-color-fitted-level-0: #f0f8ff;\n",
       "  --sklearn-color-fitted-level-1: #d4ebff;\n",
       "  --sklearn-color-fitted-level-2: #b3dbfd;\n",
       "  --sklearn-color-fitted-level-3: cornflowerblue;\n",
       "\n",
       "  /* Specific color for light theme */\n",
       "  --sklearn-color-text-on-default-background: var(--sg-text-color, var(--theme-code-foreground, var(--jp-content-font-color1, black)));\n",
       "  --sklearn-color-background: var(--sg-background-color, var(--theme-background, var(--jp-layout-color0, white)));\n",
       "  --sklearn-color-border-box: var(--sg-text-color, var(--theme-code-foreground, var(--jp-content-font-color1, black)));\n",
       "  --sklearn-color-icon: #696969;\n",
       "\n",
       "  @media (prefers-color-scheme: dark) {\n",
       "    /* Redefinition of color scheme for dark theme */\n",
       "    --sklearn-color-text-on-default-background: var(--sg-text-color, var(--theme-code-foreground, var(--jp-content-font-color1, white)));\n",
       "    --sklearn-color-background: var(--sg-background-color, var(--theme-background, var(--jp-layout-color0, #111)));\n",
       "    --sklearn-color-border-box: var(--sg-text-color, var(--theme-code-foreground, var(--jp-content-font-color1, white)));\n",
       "    --sklearn-color-icon: #878787;\n",
       "  }\n",
       "}\n",
       "\n",
       "#sk-container-id-8 {\n",
       "  color: var(--sklearn-color-text);\n",
       "}\n",
       "\n",
       "#sk-container-id-8 pre {\n",
       "  padding: 0;\n",
       "}\n",
       "\n",
       "#sk-container-id-8 input.sk-hidden--visually {\n",
       "  border: 0;\n",
       "  clip: rect(1px 1px 1px 1px);\n",
       "  clip: rect(1px, 1px, 1px, 1px);\n",
       "  height: 1px;\n",
       "  margin: -1px;\n",
       "  overflow: hidden;\n",
       "  padding: 0;\n",
       "  position: absolute;\n",
       "  width: 1px;\n",
       "}\n",
       "\n",
       "#sk-container-id-8 div.sk-dashed-wrapped {\n",
       "  border: 1px dashed var(--sklearn-color-line);\n",
       "  margin: 0 0.4em 0.5em 0.4em;\n",
       "  box-sizing: border-box;\n",
       "  padding-bottom: 0.4em;\n",
       "  background-color: var(--sklearn-color-background);\n",
       "}\n",
       "\n",
       "#sk-container-id-8 div.sk-container {\n",
       "  /* jupyter's `normalize.less` sets `[hidden] { display: none; }`\n",
       "     but bootstrap.min.css set `[hidden] { display: none !important; }`\n",
       "     so we also need the `!important` here to be able to override the\n",
       "     default hidden behavior on the sphinx rendered scikit-learn.org.\n",
       "     See: https://github.com/scikit-learn/scikit-learn/issues/21755 */\n",
       "  display: inline-block !important;\n",
       "  position: relative;\n",
       "}\n",
       "\n",
       "#sk-container-id-8 div.sk-text-repr-fallback {\n",
       "  display: none;\n",
       "}\n",
       "\n",
       "div.sk-parallel-item,\n",
       "div.sk-serial,\n",
       "div.sk-item {\n",
       "  /* draw centered vertical line to link estimators */\n",
       "  background-image: linear-gradient(var(--sklearn-color-text-on-default-background), var(--sklearn-color-text-on-default-background));\n",
       "  background-size: 2px 100%;\n",
       "  background-repeat: no-repeat;\n",
       "  background-position: center center;\n",
       "}\n",
       "\n",
       "/* Parallel-specific style estimator block */\n",
       "\n",
       "#sk-container-id-8 div.sk-parallel-item::after {\n",
       "  content: \"\";\n",
       "  width: 100%;\n",
       "  border-bottom: 2px solid var(--sklearn-color-text-on-default-background);\n",
       "  flex-grow: 1;\n",
       "}\n",
       "\n",
       "#sk-container-id-8 div.sk-parallel {\n",
       "  display: flex;\n",
       "  align-items: stretch;\n",
       "  justify-content: center;\n",
       "  background-color: var(--sklearn-color-background);\n",
       "  position: relative;\n",
       "}\n",
       "\n",
       "#sk-container-id-8 div.sk-parallel-item {\n",
       "  display: flex;\n",
       "  flex-direction: column;\n",
       "}\n",
       "\n",
       "#sk-container-id-8 div.sk-parallel-item:first-child::after {\n",
       "  align-self: flex-end;\n",
       "  width: 50%;\n",
       "}\n",
       "\n",
       "#sk-container-id-8 div.sk-parallel-item:last-child::after {\n",
       "  align-self: flex-start;\n",
       "  width: 50%;\n",
       "}\n",
       "\n",
       "#sk-container-id-8 div.sk-parallel-item:only-child::after {\n",
       "  width: 0;\n",
       "}\n",
       "\n",
       "/* Serial-specific style estimator block */\n",
       "\n",
       "#sk-container-id-8 div.sk-serial {\n",
       "  display: flex;\n",
       "  flex-direction: column;\n",
       "  align-items: center;\n",
       "  background-color: var(--sklearn-color-background);\n",
       "  padding-right: 1em;\n",
       "  padding-left: 1em;\n",
       "}\n",
       "\n",
       "\n",
       "/* Toggleable style: style used for estimator/Pipeline/ColumnTransformer box that is\n",
       "clickable and can be expanded/collapsed.\n",
       "- Pipeline and ColumnTransformer use this feature and define the default style\n",
       "- Estimators will overwrite some part of the style using the `sk-estimator` class\n",
       "*/\n",
       "\n",
       "/* Pipeline and ColumnTransformer style (default) */\n",
       "\n",
       "#sk-container-id-8 div.sk-toggleable {\n",
       "  /* Default theme specific background. It is overwritten whether we have a\n",
       "  specific estimator or a Pipeline/ColumnTransformer */\n",
       "  background-color: var(--sklearn-color-background);\n",
       "}\n",
       "\n",
       "/* Toggleable label */\n",
       "#sk-container-id-8 label.sk-toggleable__label {\n",
       "  cursor: pointer;\n",
       "  display: block;\n",
       "  width: 100%;\n",
       "  margin-bottom: 0;\n",
       "  padding: 0.5em;\n",
       "  box-sizing: border-box;\n",
       "  text-align: center;\n",
       "}\n",
       "\n",
       "#sk-container-id-8 label.sk-toggleable__label-arrow:before {\n",
       "  /* Arrow on the left of the label */\n",
       "  content: \"▸\";\n",
       "  float: left;\n",
       "  margin-right: 0.25em;\n",
       "  color: var(--sklearn-color-icon);\n",
       "}\n",
       "\n",
       "#sk-container-id-8 label.sk-toggleable__label-arrow:hover:before {\n",
       "  color: var(--sklearn-color-text);\n",
       "}\n",
       "\n",
       "/* Toggleable content - dropdown */\n",
       "\n",
       "#sk-container-id-8 div.sk-toggleable__content {\n",
       "  max-height: 0;\n",
       "  max-width: 0;\n",
       "  overflow: hidden;\n",
       "  text-align: left;\n",
       "  /* unfitted */\n",
       "  background-color: var(--sklearn-color-unfitted-level-0);\n",
       "}\n",
       "\n",
       "#sk-container-id-8 div.sk-toggleable__content.fitted {\n",
       "  /* fitted */\n",
       "  background-color: var(--sklearn-color-fitted-level-0);\n",
       "}\n",
       "\n",
       "#sk-container-id-8 div.sk-toggleable__content pre {\n",
       "  margin: 0.2em;\n",
       "  border-radius: 0.25em;\n",
       "  color: var(--sklearn-color-text);\n",
       "  /* unfitted */\n",
       "  background-color: var(--sklearn-color-unfitted-level-0);\n",
       "}\n",
       "\n",
       "#sk-container-id-8 div.sk-toggleable__content.fitted pre {\n",
       "  /* unfitted */\n",
       "  background-color: var(--sklearn-color-fitted-level-0);\n",
       "}\n",
       "\n",
       "#sk-container-id-8 input.sk-toggleable__control:checked~div.sk-toggleable__content {\n",
       "  /* Expand drop-down */\n",
       "  max-height: 200px;\n",
       "  max-width: 100%;\n",
       "  overflow: auto;\n",
       "}\n",
       "\n",
       "#sk-container-id-8 input.sk-toggleable__control:checked~label.sk-toggleable__label-arrow:before {\n",
       "  content: \"▾\";\n",
       "}\n",
       "\n",
       "/* Pipeline/ColumnTransformer-specific style */\n",
       "\n",
       "#sk-container-id-8 div.sk-label input.sk-toggleable__control:checked~label.sk-toggleable__label {\n",
       "  color: var(--sklearn-color-text);\n",
       "  background-color: var(--sklearn-color-unfitted-level-2);\n",
       "}\n",
       "\n",
       "#sk-container-id-8 div.sk-label.fitted input.sk-toggleable__control:checked~label.sk-toggleable__label {\n",
       "  background-color: var(--sklearn-color-fitted-level-2);\n",
       "}\n",
       "\n",
       "/* Estimator-specific style */\n",
       "\n",
       "/* Colorize estimator box */\n",
       "#sk-container-id-8 div.sk-estimator input.sk-toggleable__control:checked~label.sk-toggleable__label {\n",
       "  /* unfitted */\n",
       "  background-color: var(--sklearn-color-unfitted-level-2);\n",
       "}\n",
       "\n",
       "#sk-container-id-8 div.sk-estimator.fitted input.sk-toggleable__control:checked~label.sk-toggleable__label {\n",
       "  /* fitted */\n",
       "  background-color: var(--sklearn-color-fitted-level-2);\n",
       "}\n",
       "\n",
       "#sk-container-id-8 div.sk-label label.sk-toggleable__label,\n",
       "#sk-container-id-8 div.sk-label label {\n",
       "  /* The background is the default theme color */\n",
       "  color: var(--sklearn-color-text-on-default-background);\n",
       "}\n",
       "\n",
       "/* On hover, darken the color of the background */\n",
       "#sk-container-id-8 div.sk-label:hover label.sk-toggleable__label {\n",
       "  color: var(--sklearn-color-text);\n",
       "  background-color: var(--sklearn-color-unfitted-level-2);\n",
       "}\n",
       "\n",
       "/* Label box, darken color on hover, fitted */\n",
       "#sk-container-id-8 div.sk-label.fitted:hover label.sk-toggleable__label.fitted {\n",
       "  color: var(--sklearn-color-text);\n",
       "  background-color: var(--sklearn-color-fitted-level-2);\n",
       "}\n",
       "\n",
       "/* Estimator label */\n",
       "\n",
       "#sk-container-id-8 div.sk-label label {\n",
       "  font-family: monospace;\n",
       "  font-weight: bold;\n",
       "  display: inline-block;\n",
       "  line-height: 1.2em;\n",
       "}\n",
       "\n",
       "#sk-container-id-8 div.sk-label-container {\n",
       "  text-align: center;\n",
       "}\n",
       "\n",
       "/* Estimator-specific */\n",
       "#sk-container-id-8 div.sk-estimator {\n",
       "  font-family: monospace;\n",
       "  border: 1px dotted var(--sklearn-color-border-box);\n",
       "  border-radius: 0.25em;\n",
       "  box-sizing: border-box;\n",
       "  margin-bottom: 0.5em;\n",
       "  /* unfitted */\n",
       "  background-color: var(--sklearn-color-unfitted-level-0);\n",
       "}\n",
       "\n",
       "#sk-container-id-8 div.sk-estimator.fitted {\n",
       "  /* fitted */\n",
       "  background-color: var(--sklearn-color-fitted-level-0);\n",
       "}\n",
       "\n",
       "/* on hover */\n",
       "#sk-container-id-8 div.sk-estimator:hover {\n",
       "  /* unfitted */\n",
       "  background-color: var(--sklearn-color-unfitted-level-2);\n",
       "}\n",
       "\n",
       "#sk-container-id-8 div.sk-estimator.fitted:hover {\n",
       "  /* fitted */\n",
       "  background-color: var(--sklearn-color-fitted-level-2);\n",
       "}\n",
       "\n",
       "/* Specification for estimator info (e.g. \"i\" and \"?\") */\n",
       "\n",
       "/* Common style for \"i\" and \"?\" */\n",
       "\n",
       ".sk-estimator-doc-link,\n",
       "a:link.sk-estimator-doc-link,\n",
       "a:visited.sk-estimator-doc-link {\n",
       "  float: right;\n",
       "  font-size: smaller;\n",
       "  line-height: 1em;\n",
       "  font-family: monospace;\n",
       "  background-color: var(--sklearn-color-background);\n",
       "  border-radius: 1em;\n",
       "  height: 1em;\n",
       "  width: 1em;\n",
       "  text-decoration: none !important;\n",
       "  margin-left: 1ex;\n",
       "  /* unfitted */\n",
       "  border: var(--sklearn-color-unfitted-level-1) 1pt solid;\n",
       "  color: var(--sklearn-color-unfitted-level-1);\n",
       "}\n",
       "\n",
       ".sk-estimator-doc-link.fitted,\n",
       "a:link.sk-estimator-doc-link.fitted,\n",
       "a:visited.sk-estimator-doc-link.fitted {\n",
       "  /* fitted */\n",
       "  border: var(--sklearn-color-fitted-level-1) 1pt solid;\n",
       "  color: var(--sklearn-color-fitted-level-1);\n",
       "}\n",
       "\n",
       "/* On hover */\n",
       "div.sk-estimator:hover .sk-estimator-doc-link:hover,\n",
       ".sk-estimator-doc-link:hover,\n",
       "div.sk-label-container:hover .sk-estimator-doc-link:hover,\n",
       ".sk-estimator-doc-link:hover {\n",
       "  /* unfitted */\n",
       "  background-color: var(--sklearn-color-unfitted-level-3);\n",
       "  color: var(--sklearn-color-background);\n",
       "  text-decoration: none;\n",
       "}\n",
       "\n",
       "div.sk-estimator.fitted:hover .sk-estimator-doc-link.fitted:hover,\n",
       ".sk-estimator-doc-link.fitted:hover,\n",
       "div.sk-label-container:hover .sk-estimator-doc-link.fitted:hover,\n",
       ".sk-estimator-doc-link.fitted:hover {\n",
       "  /* fitted */\n",
       "  background-color: var(--sklearn-color-fitted-level-3);\n",
       "  color: var(--sklearn-color-background);\n",
       "  text-decoration: none;\n",
       "}\n",
       "\n",
       "/* Span, style for the box shown on hovering the info icon */\n",
       ".sk-estimator-doc-link span {\n",
       "  display: none;\n",
       "  z-index: 9999;\n",
       "  position: relative;\n",
       "  font-weight: normal;\n",
       "  right: .2ex;\n",
       "  padding: .5ex;\n",
       "  margin: .5ex;\n",
       "  width: min-content;\n",
       "  min-width: 20ex;\n",
       "  max-width: 50ex;\n",
       "  color: var(--sklearn-color-text);\n",
       "  box-shadow: 2pt 2pt 4pt #999;\n",
       "  /* unfitted */\n",
       "  background: var(--sklearn-color-unfitted-level-0);\n",
       "  border: .5pt solid var(--sklearn-color-unfitted-level-3);\n",
       "}\n",
       "\n",
       ".sk-estimator-doc-link.fitted span {\n",
       "  /* fitted */\n",
       "  background: var(--sklearn-color-fitted-level-0);\n",
       "  border: var(--sklearn-color-fitted-level-3);\n",
       "}\n",
       "\n",
       ".sk-estimator-doc-link:hover span {\n",
       "  display: block;\n",
       "}\n",
       "\n",
       "/* \"?\"-specific style due to the `<a>` HTML tag */\n",
       "\n",
       "#sk-container-id-8 a.estimator_doc_link {\n",
       "  float: right;\n",
       "  font-size: 1rem;\n",
       "  line-height: 1em;\n",
       "  font-family: monospace;\n",
       "  background-color: var(--sklearn-color-background);\n",
       "  border-radius: 1rem;\n",
       "  height: 1rem;\n",
       "  width: 1rem;\n",
       "  text-decoration: none;\n",
       "  /* unfitted */\n",
       "  color: var(--sklearn-color-unfitted-level-1);\n",
       "  border: var(--sklearn-color-unfitted-level-1) 1pt solid;\n",
       "}\n",
       "\n",
       "#sk-container-id-8 a.estimator_doc_link.fitted {\n",
       "  /* fitted */\n",
       "  border: var(--sklearn-color-fitted-level-1) 1pt solid;\n",
       "  color: var(--sklearn-color-fitted-level-1);\n",
       "}\n",
       "\n",
       "/* On hover */\n",
       "#sk-container-id-8 a.estimator_doc_link:hover {\n",
       "  /* unfitted */\n",
       "  background-color: var(--sklearn-color-unfitted-level-3);\n",
       "  color: var(--sklearn-color-background);\n",
       "  text-decoration: none;\n",
       "}\n",
       "\n",
       "#sk-container-id-8 a.estimator_doc_link.fitted:hover {\n",
       "  /* fitted */\n",
       "  background-color: var(--sklearn-color-fitted-level-3);\n",
       "}\n",
       "</style><div id=\"sk-container-id-8\" class=\"sk-top-container\"><div class=\"sk-text-repr-fallback\"><pre>Pipeline(steps=[(&#x27;polynomialfeatures&#x27;, PolynomialFeatures(degree=3)),\n",
       "                (&#x27;linearregression&#x27;, LinearRegression())])</pre><b>In a Jupyter environment, please rerun this cell to show the HTML representation or trust the notebook. <br />On GitHub, the HTML representation is unable to render, please try loading this page with nbviewer.org.</b></div><div class=\"sk-container\" hidden><div class=\"sk-item sk-dashed-wrapped\"><div class=\"sk-label-container\"><div class=\"sk-label fitted sk-toggleable\"><input class=\"sk-toggleable__control sk-hidden--visually\" id=\"sk-estimator-id-16\" type=\"checkbox\" ><label for=\"sk-estimator-id-16\" class=\"sk-toggleable__label fitted sk-toggleable__label-arrow fitted\">&nbsp;&nbsp;Pipeline<a class=\"sk-estimator-doc-link fitted\" rel=\"noreferrer\" target=\"_blank\" href=\"https://scikit-learn.org/1.4/modules/generated/sklearn.pipeline.Pipeline.html\">?<span>Documentation for Pipeline</span></a><span class=\"sk-estimator-doc-link fitted\">i<span>Fitted</span></span></label><div class=\"sk-toggleable__content fitted\"><pre>Pipeline(steps=[(&#x27;polynomialfeatures&#x27;, PolynomialFeatures(degree=3)),\n",
       "                (&#x27;linearregression&#x27;, LinearRegression())])</pre></div> </div></div><div class=\"sk-serial\"><div class=\"sk-item\"><div class=\"sk-estimator fitted sk-toggleable\"><input class=\"sk-toggleable__control sk-hidden--visually\" id=\"sk-estimator-id-17\" type=\"checkbox\" ><label for=\"sk-estimator-id-17\" class=\"sk-toggleable__label fitted sk-toggleable__label-arrow fitted\">&nbsp;PolynomialFeatures<a class=\"sk-estimator-doc-link fitted\" rel=\"noreferrer\" target=\"_blank\" href=\"https://scikit-learn.org/1.4/modules/generated/sklearn.preprocessing.PolynomialFeatures.html\">?<span>Documentation for PolynomialFeatures</span></a></label><div class=\"sk-toggleable__content fitted\"><pre>PolynomialFeatures(degree=3)</pre></div> </div></div><div class=\"sk-item\"><div class=\"sk-estimator fitted sk-toggleable\"><input class=\"sk-toggleable__control sk-hidden--visually\" id=\"sk-estimator-id-18\" type=\"checkbox\" ><label for=\"sk-estimator-id-18\" class=\"sk-toggleable__label fitted sk-toggleable__label-arrow fitted\">&nbsp;LinearRegression<a class=\"sk-estimator-doc-link fitted\" rel=\"noreferrer\" target=\"_blank\" href=\"https://scikit-learn.org/1.4/modules/generated/sklearn.linear_model.LinearRegression.html\">?<span>Documentation for LinearRegression</span></a></label><div class=\"sk-toggleable__content fitted\"><pre>LinearRegression()</pre></div> </div></div></div></div></div></div>"
      ],
      "text/plain": [
       "Pipeline(steps=[('polynomialfeatures', PolynomialFeatures(degree=3)),\n",
       "                ('linearregression', LinearRegression())])"
      ]
     },
     "execution_count": 78,
     "metadata": {},
     "output_type": "execute_result"
    }
   ],
   "source": [
    "from sklearn.linear_model import LinearRegression\n",
    "\n",
    "# Linear regression with polynomial features\n",
    "from sklearn.preprocessing import PolynomialFeatures\n",
    "from sklearn.pipeline import make_pipeline\n",
    "\n",
    "model = make_pipeline(PolynomialFeatures(3), LinearRegression())\n",
    "model.fit(X, y)"
   ]
  },
  {
   "cell_type": "code",
   "execution_count": 79,
   "metadata": {},
   "outputs": [
    {
     "data": {
      "application/vnd.plotly.v1+json": {
       "config": {
        "plotlyServerURL": "https://plot.ly"
       },
       "data": [
        {
         "marker": {
          "color": "blue",
          "opacity": 0.5,
          "size": 5
         },
         "mode": "markers",
         "type": "scatter3d",
         "x": [
          -1,
          -0.7777777777777778,
          -0.5555555555555556,
          -0.33333333333333337,
          -0.11111111111111116,
          0.11111111111111116,
          0.33333333333333326,
          0.5555555555555554,
          0.7777777777777777,
          1,
          -1,
          -0.7777777777777778,
          -0.5555555555555556,
          -0.33333333333333337,
          -0.11111111111111116,
          0.11111111111111116,
          0.33333333333333326,
          0.5555555555555554,
          0.7777777777777777,
          1,
          -1,
          -0.7777777777777778,
          -0.5555555555555556,
          -0.33333333333333337,
          -0.11111111111111116,
          0.11111111111111116,
          0.33333333333333326,
          0.5555555555555554,
          0.7777777777777777,
          1,
          -1,
          -0.7777777777777778,
          -0.5555555555555556,
          -0.33333333333333337,
          -0.11111111111111116,
          0.11111111111111116,
          0.33333333333333326,
          0.5555555555555554,
          0.7777777777777777,
          1,
          -1,
          -0.7777777777777778,
          -0.5555555555555556,
          -0.33333333333333337,
          -0.11111111111111116,
          0.11111111111111116,
          0.33333333333333326,
          0.5555555555555554,
          0.7777777777777777,
          1,
          -1,
          -0.7777777777777778,
          -0.5555555555555556,
          -0.33333333333333337,
          -0.11111111111111116,
          0.11111111111111116,
          0.33333333333333326,
          0.5555555555555554,
          0.7777777777777777,
          1,
          -1,
          -0.7777777777777778,
          -0.5555555555555556,
          -0.33333333333333337,
          -0.11111111111111116,
          0.11111111111111116,
          0.33333333333333326,
          0.5555555555555554,
          0.7777777777777777,
          1,
          -1,
          -0.7777777777777778,
          -0.5555555555555556,
          -0.33333333333333337,
          -0.11111111111111116,
          0.11111111111111116,
          0.33333333333333326,
          0.5555555555555554,
          0.7777777777777777,
          1,
          -1,
          -0.7777777777777778,
          -0.5555555555555556,
          -0.33333333333333337,
          -0.11111111111111116,
          0.11111111111111116,
          0.33333333333333326,
          0.5555555555555554,
          0.7777777777777777,
          1,
          -1,
          -0.7777777777777778,
          -0.5555555555555556,
          -0.33333333333333337,
          -0.11111111111111116,
          0.11111111111111116,
          0.33333333333333326,
          0.5555555555555554,
          0.7777777777777777,
          1
         ],
         "y": [
          -1,
          -1,
          -1,
          -1,
          -1,
          -1,
          -1,
          -1,
          -1,
          -1,
          -0.7777777777777778,
          -0.7777777777777778,
          -0.7777777777777778,
          -0.7777777777777778,
          -0.7777777777777778,
          -0.7777777777777778,
          -0.7777777777777778,
          -0.7777777777777778,
          -0.7777777777777778,
          -0.7777777777777778,
          -0.5555555555555556,
          -0.5555555555555556,
          -0.5555555555555556,
          -0.5555555555555556,
          -0.5555555555555556,
          -0.5555555555555556,
          -0.5555555555555556,
          -0.5555555555555556,
          -0.5555555555555556,
          -0.5555555555555556,
          -0.33333333333333337,
          -0.33333333333333337,
          -0.33333333333333337,
          -0.33333333333333337,
          -0.33333333333333337,
          -0.33333333333333337,
          -0.33333333333333337,
          -0.33333333333333337,
          -0.33333333333333337,
          -0.33333333333333337,
          -0.11111111111111116,
          -0.11111111111111116,
          -0.11111111111111116,
          -0.11111111111111116,
          -0.11111111111111116,
          -0.11111111111111116,
          -0.11111111111111116,
          -0.11111111111111116,
          -0.11111111111111116,
          -0.11111111111111116,
          0.11111111111111116,
          0.11111111111111116,
          0.11111111111111116,
          0.11111111111111116,
          0.11111111111111116,
          0.11111111111111116,
          0.11111111111111116,
          0.11111111111111116,
          0.11111111111111116,
          0.11111111111111116,
          0.33333333333333326,
          0.33333333333333326,
          0.33333333333333326,
          0.33333333333333326,
          0.33333333333333326,
          0.33333333333333326,
          0.33333333333333326,
          0.33333333333333326,
          0.33333333333333326,
          0.33333333333333326,
          0.5555555555555554,
          0.5555555555555554,
          0.5555555555555554,
          0.5555555555555554,
          0.5555555555555554,
          0.5555555555555554,
          0.5555555555555554,
          0.5555555555555554,
          0.5555555555555554,
          0.5555555555555554,
          0.7777777777777777,
          0.7777777777777777,
          0.7777777777777777,
          0.7777777777777777,
          0.7777777777777777,
          0.7777777777777777,
          0.7777777777777777,
          0.7777777777777777,
          0.7777777777777777,
          0.7777777777777777,
          1,
          1,
          1,
          1,
          1,
          1,
          1,
          1,
          1,
          1
         ],
         "z": [
          -1.3217597013438351,
          -1.1519470949503514,
          -1.0532832830178172,
          -1.1149200072454681,
          -1.0726431176517224,
          -0.9840234366022669,
          -0.9376548310822564,
          -0.8976873603503853,
          -0.7603009186406371,
          -0.04152820479363664,
          -1.1223322767893626,
          -1.0513409531102438,
          -0.8101380196954147,
          -0.7231282981459227,
          -0.9600384039409513,
          -0.7697155175694228,
          -0.7651830013543168,
          -0.7655768406039556,
          0.03151039836620709,
          0.9175104361177523,
          -1.0818855432696695,
          -0.9242733714391146,
          -0.5794336767931614,
          -0.6532038591147946,
          -0.6833467346188108,
          -0.4597831138349721,
          -0.5215120700624944,
          -0.14500639598126486,
          0.6342716311789417,
          0.9652399977036249,
          -0.9818184670085021,
          -0.9405408317759493,
          -0.5637109714396007,
          -0.35009173148715167,
          -0.36908315338747577,
          -0.3933285430264028,
          0.03879110939515918,
          0.5746118373307803,
          0.816814536564917,
          1.0064793612017044,
          -1.0273599651318939,
          -0.9430597512172278,
          -0.6873355247443733,
          -0.23738390975788437,
          -0.10024275829202145,
          -0.0736322603386962,
          0.3620174639899211,
          0.7393716497622702,
          0.7243267425840203,
          1.0677616171137965,
          -0.9184615233351617,
          -0.9172733614513263,
          -0.48079682973315696,
          -0.29444983957212395,
          0.04688795134750535,
          0.058331127518676126,
          0.4242436799432983,
          0.5369085896931206,
          0.7680653783077759,
          0.9827293506259592,
          -1.0111105228920902,
          -0.6634062881670152,
          -0.6945844993675004,
          0.07144351343261417,
          0.4150308319531427,
          0.45613266987833906,
          0.43874838591617576,
          0.5225847229520967,
          0.6608845106115699,
          1.0493364909838634,
          -0.7486724572594256,
          -0.6547439130619592,
          -0.0068744148109012035,
          0.5717821015476457,
          0.7269510911125574,
          0.5026299150933629,
          0.5233115517368327,
          0.6917436198822289,
          0.8499929644452774,
          1.1390796497352447,
          -0.8978261992174476,
          0.011885418376641133,
          0.5722244234075551,
          0.7701785110308381,
          0.832222082700922,
          0.7051111558980422,
          0.6470843120937001,
          0.7073037529033609,
          0.9422508811531031,
          1.1519171722589074,
          -0.06949634731486044,
          0.7787051370125635,
          0.8221657357987893,
          1.0305106840870721,
          1.0055724215133417,
          0.8359686421378507,
          1.180060502841542,
          0.9616754160623999,
          1.1437847101209262,
          1.4959577206933552
         ]
        },
        {
         "opacity": 0.5,
         "type": "surface",
         "x": [
          -1,
          -0.8947368421052632,
          -0.7894736842105263,
          -0.6842105263157895,
          -0.5789473684210527,
          -0.4736842105263158,
          -0.368421052631579,
          -0.26315789473684215,
          -0.1578947368421053,
          -0.052631578947368474,
          0.05263157894736836,
          0.1578947368421053,
          0.26315789473684204,
          0.36842105263157876,
          0.4736842105263157,
          0.5789473684210527,
          0.6842105263157894,
          0.7894736842105261,
          0.894736842105263,
          1
         ],
         "y": [
          -1,
          -0.8947368421052632,
          -0.7894736842105263,
          -0.6842105263157895,
          -0.5789473684210527,
          -0.4736842105263158,
          -0.368421052631579,
          -0.26315789473684215,
          -0.1578947368421053,
          -0.052631578947368474,
          0.05263157894736836,
          0.1578947368421053,
          0.26315789473684204,
          0.36842105263157876,
          0.4736842105263157,
          0.5789473684210527,
          0.6842105263157894,
          0.7894736842105261,
          0.894736842105263,
          1
         ],
         "z": [
          [
           -1.2029581011625192,
           -1.1587949515975606,
           -1.135137280841113,
           -1.1279456618503538,
           -1.1331806675824607,
           -1.146802870994611,
           -1.1647728450439823,
           -1.1830511626877522,
           -1.1975983968830988,
           -1.2043751205871989,
           -1.1993419067572304,
           -1.178459328350371,
           -1.137687958323798,
           -1.0729883696346894,
           -0.9803211352402222,
           -0.8556468280975742,
           -0.6949260211639235,
           -0.49411928739644706,
           -0.2491871997523224,
           0.04390966881127311
          ],
          [
           -1.1624436930541469,
           -1.0933485229434414,
           -1.0461728639634078,
           -1.0168772890712234,
           -1.0014223712240657,
           -0.9957686833791124,
           -0.9958767984935414,
           -0.99770728952453,
           -0.9972207294292557,
           -0.9903776911648962,
           -0.9731387476886287,
           -0.9414644719576314,
           -0.8913154369290817,
           -0.818652215560157,
           -0.7194353808080347,
           -0.5896255056298925,
           -0.4251831629829084,
           -0.22206892582425974,
           0.02375663288887641,
           0.31633294019932234
          ],
          [
           -1.140136817494622,
           -1.0474719055608033,
           -0.9781405370798167,
           -0.9281032850088407,
           -0.8933207223050526,
           -0.8697534219256297,
           -0.8533619568277496,
           -0.8401068999685902,
           -0.8259488243053288,
           -0.8068483027951433,
           -0.7787659083952109,
           -0.7376622140627093,
           -0.679497792754816,
           -0.6002332174287089,
           -0.4958290610415651,
           -0.36224589655056244,
           -0.19544429691287868,
           0.008615164914308797,
           0.25397191597382274,
           0.5446653833084852
          ],
          [
           -1.1324243722638987,
           -1.0175519972295999,
           -0.9274271979702947,
           -0.8580105474431606,
           -0.8052626186053754,
           -0.7651439844141164,
           -0.7336152178265611,
           -0.7066368917998874,
           -0.6801695792912728,
           -0.6501738532578947,
           -0.6126102866569307,
           -0.5634394524455585,
           -0.4986219235809557,
           -0.4141182730202998,
           -0.3058890737207681,
           -0.1698948986395385,
           -0.0020963207337887434,
           0.20154608703930388,
           0.4450717517225621,
           0.7325201003588078
          ],
          [
           -1.1356932551419312,
           -0.9999756957297861,
           -0.8904197444147957,
           -0.8029859741541372,
           -0.7336349579049884,
           -0.6783272686245269,
           -0.6330234792699302,
           -0.5936841627983759,
           -0.5562698921670414,
           -0.5167412403331045,
           -0.4710587802537427,
           -0.4151830848861335,
           -0.3450747271874546,
           -0.2566942801148835,
           -0.14600231662559765,
           -0.008959409676774728,
           0.1584738677744074,
           0.3603369427707714,
           0.60066924235514,
           0.8835101935703357
          ],
          [
           -1.1463303639086733,
           -0.9911298988413156,
           -0.8635050741932736,
           -0.7594164629217246,
           -0.674824637983846,
           -0.6056901723368155,
           -0.5479736389378109,
           -0.4976356107440097,
           -0.45063666071258907,
           -0.402937361800727,
           -0.3504982869656009,
           -0.28928000916438834,
           -0.21524310135426702,
           -0.12434813649241454,
           -0.012555687536008088,
           0.1241736725577745,
           0.2898793708317553,
           0.4886008343287572,
           0.7243774900916028,
           1.0012487651631143
          ],
          [
           -1.1607225963440797,
           -0.9874015043441431,
           -0.8430700850856832,
           -0.723688911525877,
           -0.6252185566219024,
           -0.5436195933309368,
           -0.4748525946101577,
           -0.41487813341674307,
           -0.35965678270787,
           -0.30514911544071643,
           -0.2473157045724597,
           -0.18211712306027744,
           -0.10551394386134738,
           -0.013466739932847,
           0.09806391576804634,
           0.23311745028415493,
           0.3957332906583009,
           0.589950863933307,
           0.8198095971519959,
           1.0893489173571895
          ],
          [
           -1.1752568502281042,
           -0.9851774100182228,
           -0.8255016748719782,
           -0.6921902177465487,
           -0.5812036115991115,
           -0.4885024293868444,
           -0.4100472440669247,
           -0.3417986285965302,
           -0.2797171559328385,
           -0.21976339903302697,
           -0.15789793085427328,
           -0.09008132435375495,
           -0.012274152488649746,
           0.07956301178386482,
           0.18946959550661147,
           0.3214850257224125,
           0.47964872947408993,
           0.6680001338044664,
           0.8905786657563648,
           1.1514237523726074
          ],
          [
           -1.1863200233407016,
           -0.9808445136435084,
           -0.8071867413321133,
           -0.6613072793636939,
           -0.5391667006954279,
           -0.43672557828449277,
           -0.3499444850880662,
           -0.2747839940633256,
           -0.20720467816744864,
           -0.14316711035761284,
           -0.07863186359099586,
           -0.0095595108247751,
           0.06808937498387158,
           0.15835422087776677,
           0.2652744538997331,
           0.3928895010925928,
           0.5452387894991679,
           0.7263617461622814,
           0.9402977981247559,
           1.1910863724294134
          ],
          [
           -1.1902990134618259,
           -0.9707897129999545,
           -0.7845121822460425,
           -0.627426994157267,
           -0.4954947216908057,
           -0.38467593780383635,
           -0.29093121545353634,
           -0.2102211275970833,
           -0.13850624719165475,
           -0.07174714719442839,
           -0.00590440056258168,
           0.06306141974670784,
           0.1391897407762624,
           0.22651998956890446,
           0.32909159316745673,
           0.45094397861474167,
           0.596116572953581,
           0.7686488032267976,
           0.9725800964772146,
           1.2119498797476533
          ],
          [
           -1.1835807183714309,
           -0.9513999058675157,
           -0.75386489539372,
           -0.586936259907222,
           -0.44657457236519926,
           -0.3287404057248292,
           -0.2293943329432894,
           -0.14449692697775757,
           -0.07000876078541113,
           -0.0018904073234277743,
           0.063897560451015,
           0.13139456958073964,
           0.2046400471085684,
           0.2876734200773238,
           0.3845341155298284,
           0.4992615605089048,
           0.6358951820573746,
           0.7984744072180611,
           0.9910386630337864,
           1.217627376547373
          ],
          [
           -1.1625520358494716,
           -0.9190619900261454,
           -0.7116317785551001,
           -0.5362219743935133,
           -0.38879315049856256,
           -0.26530587982742543,
           -0.16172073533727957,
           -0.07399828998530256,
           0.0019008832713281027,
           0.07001621147543481,
           0.13438712166984,
           0.19905304089736614,
           0.26805339620083546,
           0.34542761462307053,
           0.43521512320689393,
           0.541455348995128,
           0.6681877190305949,
           0.8194516603561172,
           0.9992866000145176,
           1.2117319650486182
          ],
          [
           -1.1235998636759021,
           -0.8701628632557986,
           -0.6541997295101372,
           -0.4716710353960952,
           -0.3185373538708501,
           -0.19075925789157966,
           -0.08429732041546133,
           0.004887885600327213,
           0.08083578719860854,
           0.14758581142220495,
           0.20917738531393884,
           0.26964993591663283,
           0.3330428902731092,
           0.40339567542619026,
           0.4847477184186987,
           0.581138446293457,
           0.6966072860932871,
           0.8351936648610118,
           1.0009370096394534,
           1.197876747471435
          ],
          [
           -1.063111099630676,
           -0.8010894233364293,
           -0.5779556460387852,
           -0.3896703406949218,
           -0.2321940802620161,
           -0.10148743769724589,
           0.006489014042211222,
           0.09577470199917767,
           0.17040905321647598,
           0.23443149473692848,
           0.2918814536033575,
           0.34679835685858573,
           0.40322163154543533,
           0.4651907047067288,
           0.5367450033852887,
           0.6219239546239376,
           0.7247669854654973,
           0.8493135229527907,
           0.9996029941286405,
           1.1796748260358687
          ],
          [
           -0.9774726414937479,
           -0.7082285680479916,
           -0.4792864259209987,
           -0.28660678806994716,
           -0.12615022745201443,
           0.006122682975621817,
           0.11425137025578413,
           0.20227526143129482,
           0.27423378354497646,
           0.33416636363965135,
           0.3861124287581419,
           0.4341114059432707,
           0.4822027222378599,
           0.5344258046847322,
           0.59482008032671,
           0.6674249762066156,
           0.7562799193672713,
           0.8654243368514999,
           0.9988976557021235,
           1.1607393029619648
          ],
          [
           -0.8630713870450722,
           -0.5879671951704397,
           -0.3545789669367317,
           -0.15886727530112577,
           0.0032073067792003853,
           0.13568420634706915,
           0.24260285044530291,
           0.32800266611672424,
           0.3959230804041556,
           0.4504035203504192,
           0.49548341299833765,
           0.5352021853907334,
           0.5735992645704286,
           0.6147140775802459,
           0.6625860514630079,
           0.7212546132615367,
           0.7947591900186547,
           0.8871392087771847,
           1.0024340965799488,
           1.1446832804697697
          ],
          [
           -0.7162942340646031,
           -0.43669220248372825,
           -0.20022016686593858,
           -0.002838700168412096,
           0.15949162465167382,
           0.29081023463714134,
           0.39515655683081313,
           0.4765700182755114,
           0.5390900460140587,
           0.5867560670892775,
           0.6236075085439902,
           0.6536837974210193,
           0.6810243607631868,
           0.7096686256133158,
           0.7436560190142282,
           0.7870259680087466,
           0.8438178996396934,
           0.9180712409498912,
           1.0138254189821623,
           1.135119860779329
          ],
          [
           -0.5335280803322953,
           -0.2507904877678112,
           -0.01259692348857356,
           0.18509203954823994,
           0.34631582838545183,
           0.4751138700658846,
           0.5755255916323606,
           0.6515904201277022,
           0.707347782594732,
           0.7468371060762723,
           0.7740978176151457,
           0.7931693442541743,
           0.8080911130361808,
           0.8229025510039873,
           0.8416430852004166,
           0.8683521426682911,
           0.9070691504504331,
           0.9618335355896649,
           1.0366847251288092,
           1.1356621461106882
          ],
          [
           -0.3111598236281017,
           -0.026648948802642576,
           0.2119038654154093,
           0.4085380460688763,
           0.5672930202005807,
           0.6922082148533448,
           0.7873230570699915,
           0.8566769738933427,
           0.9043093923662214,
           0.9342597395314497,
           0.9505674424318498,
           0.9572719281102443,
           0.958412623609456,
           0.9580289559723069,
           0.9601603522416194,
           0.9688462394602162,
           0.9881260446709195,
           1.0220391949165517,
           1.0746251172399355,
           1.1499232386838936
          ],
          [
           -0.04557636173197744,
           0.23934551663182335,
           0.4768953020660559,
           0.6711124216135426,
           0.8260363023171058,
           0.945706371219568,
           1.0341620553637514,
           1.0954427817924788,
           1.1335879775485724,
           1.152637069674855,
           1.1566294852141483,
           1.1496046512092755,
           1.1356019947030584,
           1.1186609427383198,
           1.1028209223578818,
           1.0921213606045674,
           1.0906016845211985,
           1.1023013211505976,
           1.1312596975355875,
           1.18151624071899
          ]
         ]
        }
       ],
       "layout": {
        "template": {
         "data": {
          "bar": [
           {
            "error_x": {
             "color": "#2a3f5f"
            },
            "error_y": {
             "color": "#2a3f5f"
            },
            "marker": {
             "line": {
              "color": "#E5ECF6",
              "width": 0.5
             },
             "pattern": {
              "fillmode": "overlay",
              "size": 10,
              "solidity": 0.2
             }
            },
            "type": "bar"
           }
          ],
          "barpolar": [
           {
            "marker": {
             "line": {
              "color": "#E5ECF6",
              "width": 0.5
             },
             "pattern": {
              "fillmode": "overlay",
              "size": 10,
              "solidity": 0.2
             }
            },
            "type": "barpolar"
           }
          ],
          "carpet": [
           {
            "aaxis": {
             "endlinecolor": "#2a3f5f",
             "gridcolor": "white",
             "linecolor": "white",
             "minorgridcolor": "white",
             "startlinecolor": "#2a3f5f"
            },
            "baxis": {
             "endlinecolor": "#2a3f5f",
             "gridcolor": "white",
             "linecolor": "white",
             "minorgridcolor": "white",
             "startlinecolor": "#2a3f5f"
            },
            "type": "carpet"
           }
          ],
          "choropleth": [
           {
            "colorbar": {
             "outlinewidth": 0,
             "ticks": ""
            },
            "type": "choropleth"
           }
          ],
          "contour": [
           {
            "colorbar": {
             "outlinewidth": 0,
             "ticks": ""
            },
            "colorscale": [
             [
              0,
              "#0d0887"
             ],
             [
              0.1111111111111111,
              "#46039f"
             ],
             [
              0.2222222222222222,
              "#7201a8"
             ],
             [
              0.3333333333333333,
              "#9c179e"
             ],
             [
              0.4444444444444444,
              "#bd3786"
             ],
             [
              0.5555555555555556,
              "#d8576b"
             ],
             [
              0.6666666666666666,
              "#ed7953"
             ],
             [
              0.7777777777777778,
              "#fb9f3a"
             ],
             [
              0.8888888888888888,
              "#fdca26"
             ],
             [
              1,
              "#f0f921"
             ]
            ],
            "type": "contour"
           }
          ],
          "contourcarpet": [
           {
            "colorbar": {
             "outlinewidth": 0,
             "ticks": ""
            },
            "type": "contourcarpet"
           }
          ],
          "heatmap": [
           {
            "colorbar": {
             "outlinewidth": 0,
             "ticks": ""
            },
            "colorscale": [
             [
              0,
              "#0d0887"
             ],
             [
              0.1111111111111111,
              "#46039f"
             ],
             [
              0.2222222222222222,
              "#7201a8"
             ],
             [
              0.3333333333333333,
              "#9c179e"
             ],
             [
              0.4444444444444444,
              "#bd3786"
             ],
             [
              0.5555555555555556,
              "#d8576b"
             ],
             [
              0.6666666666666666,
              "#ed7953"
             ],
             [
              0.7777777777777778,
              "#fb9f3a"
             ],
             [
              0.8888888888888888,
              "#fdca26"
             ],
             [
              1,
              "#f0f921"
             ]
            ],
            "type": "heatmap"
           }
          ],
          "heatmapgl": [
           {
            "colorbar": {
             "outlinewidth": 0,
             "ticks": ""
            },
            "colorscale": [
             [
              0,
              "#0d0887"
             ],
             [
              0.1111111111111111,
              "#46039f"
             ],
             [
              0.2222222222222222,
              "#7201a8"
             ],
             [
              0.3333333333333333,
              "#9c179e"
             ],
             [
              0.4444444444444444,
              "#bd3786"
             ],
             [
              0.5555555555555556,
              "#d8576b"
             ],
             [
              0.6666666666666666,
              "#ed7953"
             ],
             [
              0.7777777777777778,
              "#fb9f3a"
             ],
             [
              0.8888888888888888,
              "#fdca26"
             ],
             [
              1,
              "#f0f921"
             ]
            ],
            "type": "heatmapgl"
           }
          ],
          "histogram": [
           {
            "marker": {
             "pattern": {
              "fillmode": "overlay",
              "size": 10,
              "solidity": 0.2
             }
            },
            "type": "histogram"
           }
          ],
          "histogram2d": [
           {
            "colorbar": {
             "outlinewidth": 0,
             "ticks": ""
            },
            "colorscale": [
             [
              0,
              "#0d0887"
             ],
             [
              0.1111111111111111,
              "#46039f"
             ],
             [
              0.2222222222222222,
              "#7201a8"
             ],
             [
              0.3333333333333333,
              "#9c179e"
             ],
             [
              0.4444444444444444,
              "#bd3786"
             ],
             [
              0.5555555555555556,
              "#d8576b"
             ],
             [
              0.6666666666666666,
              "#ed7953"
             ],
             [
              0.7777777777777778,
              "#fb9f3a"
             ],
             [
              0.8888888888888888,
              "#fdca26"
             ],
             [
              1,
              "#f0f921"
             ]
            ],
            "type": "histogram2d"
           }
          ],
          "histogram2dcontour": [
           {
            "colorbar": {
             "outlinewidth": 0,
             "ticks": ""
            },
            "colorscale": [
             [
              0,
              "#0d0887"
             ],
             [
              0.1111111111111111,
              "#46039f"
             ],
             [
              0.2222222222222222,
              "#7201a8"
             ],
             [
              0.3333333333333333,
              "#9c179e"
             ],
             [
              0.4444444444444444,
              "#bd3786"
             ],
             [
              0.5555555555555556,
              "#d8576b"
             ],
             [
              0.6666666666666666,
              "#ed7953"
             ],
             [
              0.7777777777777778,
              "#fb9f3a"
             ],
             [
              0.8888888888888888,
              "#fdca26"
             ],
             [
              1,
              "#f0f921"
             ]
            ],
            "type": "histogram2dcontour"
           }
          ],
          "mesh3d": [
           {
            "colorbar": {
             "outlinewidth": 0,
             "ticks": ""
            },
            "type": "mesh3d"
           }
          ],
          "parcoords": [
           {
            "line": {
             "colorbar": {
              "outlinewidth": 0,
              "ticks": ""
             }
            },
            "type": "parcoords"
           }
          ],
          "pie": [
           {
            "automargin": true,
            "type": "pie"
           }
          ],
          "scatter": [
           {
            "fillpattern": {
             "fillmode": "overlay",
             "size": 10,
             "solidity": 0.2
            },
            "type": "scatter"
           }
          ],
          "scatter3d": [
           {
            "line": {
             "colorbar": {
              "outlinewidth": 0,
              "ticks": ""
             }
            },
            "marker": {
             "colorbar": {
              "outlinewidth": 0,
              "ticks": ""
             }
            },
            "type": "scatter3d"
           }
          ],
          "scattercarpet": [
           {
            "marker": {
             "colorbar": {
              "outlinewidth": 0,
              "ticks": ""
             }
            },
            "type": "scattercarpet"
           }
          ],
          "scattergeo": [
           {
            "marker": {
             "colorbar": {
              "outlinewidth": 0,
              "ticks": ""
             }
            },
            "type": "scattergeo"
           }
          ],
          "scattergl": [
           {
            "marker": {
             "colorbar": {
              "outlinewidth": 0,
              "ticks": ""
             }
            },
            "type": "scattergl"
           }
          ],
          "scattermapbox": [
           {
            "marker": {
             "colorbar": {
              "outlinewidth": 0,
              "ticks": ""
             }
            },
            "type": "scattermapbox"
           }
          ],
          "scatterpolar": [
           {
            "marker": {
             "colorbar": {
              "outlinewidth": 0,
              "ticks": ""
             }
            },
            "type": "scatterpolar"
           }
          ],
          "scatterpolargl": [
           {
            "marker": {
             "colorbar": {
              "outlinewidth": 0,
              "ticks": ""
             }
            },
            "type": "scatterpolargl"
           }
          ],
          "scatterternary": [
           {
            "marker": {
             "colorbar": {
              "outlinewidth": 0,
              "ticks": ""
             }
            },
            "type": "scatterternary"
           }
          ],
          "surface": [
           {
            "colorbar": {
             "outlinewidth": 0,
             "ticks": ""
            },
            "colorscale": [
             [
              0,
              "#0d0887"
             ],
             [
              0.1111111111111111,
              "#46039f"
             ],
             [
              0.2222222222222222,
              "#7201a8"
             ],
             [
              0.3333333333333333,
              "#9c179e"
             ],
             [
              0.4444444444444444,
              "#bd3786"
             ],
             [
              0.5555555555555556,
              "#d8576b"
             ],
             [
              0.6666666666666666,
              "#ed7953"
             ],
             [
              0.7777777777777778,
              "#fb9f3a"
             ],
             [
              0.8888888888888888,
              "#fdca26"
             ],
             [
              1,
              "#f0f921"
             ]
            ],
            "type": "surface"
           }
          ],
          "table": [
           {
            "cells": {
             "fill": {
              "color": "#EBF0F8"
             },
             "line": {
              "color": "white"
             }
            },
            "header": {
             "fill": {
              "color": "#C8D4E3"
             },
             "line": {
              "color": "white"
             }
            },
            "type": "table"
           }
          ]
         },
         "layout": {
          "annotationdefaults": {
           "arrowcolor": "#2a3f5f",
           "arrowhead": 0,
           "arrowwidth": 1
          },
          "autotypenumbers": "strict",
          "coloraxis": {
           "colorbar": {
            "outlinewidth": 0,
            "ticks": ""
           }
          },
          "colorscale": {
           "diverging": [
            [
             0,
             "#8e0152"
            ],
            [
             0.1,
             "#c51b7d"
            ],
            [
             0.2,
             "#de77ae"
            ],
            [
             0.3,
             "#f1b6da"
            ],
            [
             0.4,
             "#fde0ef"
            ],
            [
             0.5,
             "#f7f7f7"
            ],
            [
             0.6,
             "#e6f5d0"
            ],
            [
             0.7,
             "#b8e186"
            ],
            [
             0.8,
             "#7fbc41"
            ],
            [
             0.9,
             "#4d9221"
            ],
            [
             1,
             "#276419"
            ]
           ],
           "sequential": [
            [
             0,
             "#0d0887"
            ],
            [
             0.1111111111111111,
             "#46039f"
            ],
            [
             0.2222222222222222,
             "#7201a8"
            ],
            [
             0.3333333333333333,
             "#9c179e"
            ],
            [
             0.4444444444444444,
             "#bd3786"
            ],
            [
             0.5555555555555556,
             "#d8576b"
            ],
            [
             0.6666666666666666,
             "#ed7953"
            ],
            [
             0.7777777777777778,
             "#fb9f3a"
            ],
            [
             0.8888888888888888,
             "#fdca26"
            ],
            [
             1,
             "#f0f921"
            ]
           ],
           "sequentialminus": [
            [
             0,
             "#0d0887"
            ],
            [
             0.1111111111111111,
             "#46039f"
            ],
            [
             0.2222222222222222,
             "#7201a8"
            ],
            [
             0.3333333333333333,
             "#9c179e"
            ],
            [
             0.4444444444444444,
             "#bd3786"
            ],
            [
             0.5555555555555556,
             "#d8576b"
            ],
            [
             0.6666666666666666,
             "#ed7953"
            ],
            [
             0.7777777777777778,
             "#fb9f3a"
            ],
            [
             0.8888888888888888,
             "#fdca26"
            ],
            [
             1,
             "#f0f921"
            ]
           ]
          },
          "colorway": [
           "#636efa",
           "#EF553B",
           "#00cc96",
           "#ab63fa",
           "#FFA15A",
           "#19d3f3",
           "#FF6692",
           "#B6E880",
           "#FF97FF",
           "#FECB52"
          ],
          "font": {
           "color": "#2a3f5f"
          },
          "geo": {
           "bgcolor": "white",
           "lakecolor": "white",
           "landcolor": "#E5ECF6",
           "showlakes": true,
           "showland": true,
           "subunitcolor": "white"
          },
          "hoverlabel": {
           "align": "left"
          },
          "hovermode": "closest",
          "mapbox": {
           "style": "light"
          },
          "paper_bgcolor": "white",
          "plot_bgcolor": "#E5ECF6",
          "polar": {
           "angularaxis": {
            "gridcolor": "white",
            "linecolor": "white",
            "ticks": ""
           },
           "bgcolor": "#E5ECF6",
           "radialaxis": {
            "gridcolor": "white",
            "linecolor": "white",
            "ticks": ""
           }
          },
          "scene": {
           "xaxis": {
            "backgroundcolor": "#E5ECF6",
            "gridcolor": "white",
            "gridwidth": 2,
            "linecolor": "white",
            "showbackground": true,
            "ticks": "",
            "zerolinecolor": "white"
           },
           "yaxis": {
            "backgroundcolor": "#E5ECF6",
            "gridcolor": "white",
            "gridwidth": 2,
            "linecolor": "white",
            "showbackground": true,
            "ticks": "",
            "zerolinecolor": "white"
           },
           "zaxis": {
            "backgroundcolor": "#E5ECF6",
            "gridcolor": "white",
            "gridwidth": 2,
            "linecolor": "white",
            "showbackground": true,
            "ticks": "",
            "zerolinecolor": "white"
           }
          },
          "shapedefaults": {
           "line": {
            "color": "#2a3f5f"
           }
          },
          "ternary": {
           "aaxis": {
            "gridcolor": "white",
            "linecolor": "white",
            "ticks": ""
           },
           "baxis": {
            "gridcolor": "white",
            "linecolor": "white",
            "ticks": ""
           },
           "bgcolor": "#E5ECF6",
           "caxis": {
            "gridcolor": "white",
            "linecolor": "white",
            "ticks": ""
           }
          },
          "title": {
           "x": 0.05
          },
          "xaxis": {
           "automargin": true,
           "gridcolor": "white",
           "linecolor": "white",
           "ticks": "",
           "title": {
            "standoff": 15
           },
           "zerolinecolor": "white",
           "zerolinewidth": 2
          },
          "yaxis": {
           "automargin": true,
           "gridcolor": "white",
           "linecolor": "white",
           "ticks": "",
           "title": {
            "standoff": 15
           },
           "zerolinecolor": "white",
           "zerolinewidth": 2
          }
         }
        }
       }
      }
     },
     "metadata": {},
     "output_type": "display_data"
    }
   ],
   "source": [
    "# Predict on a grid\n",
    "n = 20\n",
    "\n",
    "xx = np.linspace(-1, 1, n)\n",
    "yy = np.linspace(-1, 1, n)\n",
    "X_test = np.meshgrid(xx, yy)\n",
    "X_test = np.array(X_test).reshape(2, -1).T\n",
    "\n",
    "y_pred = model.predict(X_test)\n",
    "\n",
    "# show the prediction in grid and the actual data\n",
    "fig = go.Figure(\n",
    "    data=[\n",
    "        go.Scatter3d(\n",
    "            x=X[:, 0],\n",
    "            y=X[:, 1],\n",
    "            z=y,\n",
    "            mode=\"markers\",\n",
    "            marker=dict(size=5, color=\"blue\", opacity=0.5),\n",
    "        ),\n",
    "        go.Surface(x=xx, y=yy, z=y_pred.reshape(n, n), opacity=0.5),\n",
    "    ]\n",
    ")\n",
    "\n",
    "fig.show()"
   ]
  }
 ],
 "metadata": {
  "kernelspec": {
   "display_name": "shit",
   "language": "python",
   "name": "python3"
  },
  "language_info": {
   "codemirror_mode": {
    "name": "ipython",
    "version": 3
   },
   "file_extension": ".py",
   "mimetype": "text/x-python",
   "name": "python",
   "nbconvert_exporter": "python",
   "pygments_lexer": "ipython3",
   "version": "3.11.5"
  }
 },
 "nbformat": 4,
 "nbformat_minor": 2
}
